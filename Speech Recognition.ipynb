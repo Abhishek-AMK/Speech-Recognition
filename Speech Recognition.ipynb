{
 "cells": [
  {
   "attachments": {},
   "cell_type": "markdown",
   "metadata": {},
   "source": [
    "# **Speech Recognition**"
   ]
  },
  {
   "attachments": {},
   "cell_type": "markdown",
   "metadata": {},
   "source": [
    "Packages necessary to download before execution -> Pyaudio , speech_recognition , google-api-python-client"
   ]
  },
  {
   "cell_type": "code",
   "execution_count": 1,
   "metadata": {},
   "outputs": [],
   "source": [
    "import speech_recognition as srec"
   ]
  },
  {
   "cell_type": "code",
   "execution_count": 2,
   "metadata": {},
   "outputs": [],
   "source": [
    "# creating an object\n",
    "recording = srec.Recognizer()"
   ]
  },
  {
   "cell_type": "code",
   "execution_count": 13,
   "metadata": {},
   "outputs": [
    {
     "name": "stdout",
     "output_type": "stream",
     "text": [
      "Say something: \n",
      "What you said is: \n",
      "hello how are you\n"
     ]
    }
   ],
   "source": [
    "# Voice will be taken by Microphone() module as input\n",
    "with srec.Microphone() as source:\n",
    "  recording.adjust_for_ambient_noise(source)\n",
    "  print(\"Say something: \")\n",
    "  audio = recording.listen(source)\n",
    "\n",
    "# Google API will recognize the voice and provide the output\n",
    "try:\n",
    "  print('What you said is: \\n' + recording.recognize_google(audio))\n",
    "except Exception as e:\n",
    "  print(e)"
   ]
  }
 ],
 "metadata": {
  "kernelspec": {
   "display_name": "Python 3",
   "language": "python",
   "name": "python3"
  },
  "language_info": {
   "codemirror_mode": {
    "name": "ipython",
    "version": 3
   },
   "file_extension": ".py",
   "mimetype": "text/x-python",
   "name": "python",
   "nbconvert_exporter": "python",
   "pygments_lexer": "ipython3",
   "version": "3.10.11"
  },
  "orig_nbformat": 4
 },
 "nbformat": 4,
 "nbformat_minor": 2
}
